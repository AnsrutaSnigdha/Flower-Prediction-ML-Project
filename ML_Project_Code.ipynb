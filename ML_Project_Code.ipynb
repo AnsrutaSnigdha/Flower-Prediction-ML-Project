{
  "nbformat": 4,
  "nbformat_minor": 0,
  "metadata": {
    "colab": {
      "name": "ML_Project_Code.ipynb",
      "provenance": [],
      "collapsed_sections": [],
      "authorship_tag": "ABX9TyNB2j/wPtTBPiLcwkoMgLZB"
    },
    "kernelspec": {
      "name": "python3",
      "display_name": "Python 3"
    }
  },
  "cells": [
    {
      "cell_type": "markdown",
      "metadata": {
        "id": "AnaU0g6o-Qdh"
      },
      "source": [
        "**Importing Libraries:**"
      ]
    },
    {
      "cell_type": "code",
      "metadata": {
        "id": "oFhr-5o-r7DS"
      },
      "source": [
        "import pandas as pd\r\n",
        "import numpy as np"
      ],
      "execution_count": 1,
      "outputs": []
    },
    {
      "cell_type": "markdown",
      "metadata": {
        "id": "hJKVjJ70-gMu"
      },
      "source": [
        "**Importing Data:**"
      ]
    },
    {
      "cell_type": "code",
      "metadata": {
        "id": "dJETTi0WtUy5"
      },
      "source": [
        "from sklearn.datasets import load_iris\r\n",
        "iris_dataset=load_iris()"
      ],
      "execution_count": 2,
      "outputs": []
    },
    {
      "cell_type": "markdown",
      "metadata": {
        "id": "4txsDnDWuP7j"
      },
      "source": [
        "**Exploring Data:**"
      ]
    },
    {
      "cell_type": "code",
      "metadata": {
        "colab": {
          "base_uri": "https://localhost:8080/"
        },
        "id": "hx4zULw1t1O2",
        "outputId": "becd1139-da44-464c-d92e-1d530bee0222"
      },
      "source": [
        "print(\"Keys of iris_dataset: \\n{}\".format(iris_dataset.keys()))\r\n",
        "print(iris_dataset['DESCR'][:193]+\"\\n...\")\r\n",
        "print(\"Target names:{}\".format(iris_dataset['target_names']))\r\n",
        "print(\"Feature names:{}\".format(iris_dataset['feature_names']))"
      ],
      "execution_count": 3,
      "outputs": [
        {
          "output_type": "stream",
          "text": [
            "Keys of iris_dataset: \n",
            "dict_keys(['data', 'target', 'target_names', 'DESCR', 'feature_names', 'filename'])\n",
            ".. _iris_dataset:\n",
            "\n",
            "Iris plants dataset\n",
            "--------------------\n",
            "\n",
            "**Data Set Characteristics:**\n",
            "\n",
            "    :Number of Instances: 150 (50 in each of three classes)\n",
            "    :Number of Attributes: 4 numeric, pre\n",
            "...\n",
            "Target names:['setosa' 'versicolor' 'virginica']\n",
            "Feature names:['sepal length (cm)', 'sepal width (cm)', 'petal length (cm)', 'petal width (cm)']\n"
          ],
          "name": "stdout"
        }
      ]
    },
    {
      "cell_type": "code",
      "metadata": {
        "colab": {
          "base_uri": "https://localhost:8080/"
        },
        "id": "jPHrMQz4x6_5",
        "outputId": "caf60da2-e519-4aa7-b195-cec9dae7a90a"
      },
      "source": [
        "print(\"Type of Data:{}\".format(type(iris_dataset['data'])))"
      ],
      "execution_count": 4,
      "outputs": [
        {
          "output_type": "stream",
          "text": [
            "Type of Data:<class 'numpy.ndarray'>\n"
          ],
          "name": "stdout"
        }
      ]
    },
    {
      "cell_type": "code",
      "metadata": {
        "colab": {
          "base_uri": "https://localhost:8080/"
        },
        "id": "_jZYxDsZx_eG",
        "outputId": "1f6efd16-5c13-4299-bc62-4646aae62ea9"
      },
      "source": [
        "print(\"Shape of Data:{}\".format(iris_dataset['data'].shape))"
      ],
      "execution_count": 5,
      "outputs": [
        {
          "output_type": "stream",
          "text": [
            "Shape of Data:(150, 4)\n"
          ],
          "name": "stdout"
        }
      ]
    },
    {
      "cell_type": "code",
      "metadata": {
        "colab": {
          "base_uri": "https://localhost:8080/"
        },
        "id": "KkfIh7MsykE2",
        "outputId": "7ffcc29c-ea32-4ce6-bd3b-3e10a1de793d"
      },
      "source": [
        "print(\"First five columns: \\n{}\".format(iris_dataset['data'][:5]))"
      ],
      "execution_count": 6,
      "outputs": [
        {
          "output_type": "stream",
          "text": [
            "First five columns: \n",
            "[[5.1 3.5 1.4 0.2]\n",
            " [4.9 3.  1.4 0.2]\n",
            " [4.7 3.2 1.3 0.2]\n",
            " [4.6 3.1 1.5 0.2]\n",
            " [5.  3.6 1.4 0.2]]\n"
          ],
          "name": "stdout"
        }
      ]
    },
    {
      "cell_type": "code",
      "metadata": {
        "colab": {
          "base_uri": "https://localhost:8080/"
        },
        "id": "yMx8j5q_0GuG",
        "outputId": "741aea2d-aa85-41f1-dc9b-0531d449dddb"
      },
      "source": [
        "print(\"Type of target:{}\".format(type(iris_dataset['target'])))\r\n",
        "print(\"Shape of target:{}\".format(iris_dataset['target'].shape))"
      ],
      "execution_count": 7,
      "outputs": [
        {
          "output_type": "stream",
          "text": [
            "Type of target:<class 'numpy.ndarray'>\n",
            "Shape of target:(150,)\n"
          ],
          "name": "stdout"
        }
      ]
    },
    {
      "cell_type": "code",
      "metadata": {
        "colab": {
          "base_uri": "https://localhost:8080/"
        },
        "id": "6MTfxqEL0Y9T",
        "outputId": "a7b0c51c-60d9-44ae-f281-6a38b4ed0f5d"
      },
      "source": [
        "print(\"Target:\\n{}\".format(iris_dataset['target']))"
      ],
      "execution_count": 8,
      "outputs": [
        {
          "output_type": "stream",
          "text": [
            "Target:\n",
            "[0 0 0 0 0 0 0 0 0 0 0 0 0 0 0 0 0 0 0 0 0 0 0 0 0 0 0 0 0 0 0 0 0 0 0 0 0\n",
            " 0 0 0 0 0 0 0 0 0 0 0 0 0 1 1 1 1 1 1 1 1 1 1 1 1 1 1 1 1 1 1 1 1 1 1 1 1\n",
            " 1 1 1 1 1 1 1 1 1 1 1 1 1 1 1 1 1 1 1 1 1 1 1 1 1 1 2 2 2 2 2 2 2 2 2 2 2\n",
            " 2 2 2 2 2 2 2 2 2 2 2 2 2 2 2 2 2 2 2 2 2 2 2 2 2 2 2 2 2 2 2 2 2 2 2 2 2\n",
            " 2 2]\n"
          ],
          "name": "stdout"
        }
      ]
    },
    {
      "cell_type": "markdown",
      "metadata": {
        "id": "Mgxzpis9tZJl"
      },
      "source": [
        "**Training and Testing data:**"
      ]
    },
    {
      "cell_type": "code",
      "metadata": {
        "id": "v3CgQM-yAh2V"
      },
      "source": [
        "from sklearn.model_selection import train_test_split\r\n",
        "X_train,X_test,y_train,y_test=train_test_split(\r\n",
        "                              iris_dataset['data'],iris_dataset['target'],random_state=0)\r\n"
      ],
      "execution_count": 9,
      "outputs": []
    },
    {
      "cell_type": "code",
      "metadata": {
        "colab": {
          "base_uri": "https://localhost:8080/"
        },
        "id": "kp2mdZF8owf8",
        "outputId": "1b3c7a76-6aae-4918-a41f-b224112a99cd"
      },
      "source": [
        "print(\"X_train shape:{}\".format(X_train.shape))\r\n",
        "print(\"y_train shape:{}\".format(y_train.shape))\r\n",
        "print(\"X_test shape:{}\".format(X_test.shape))\r\n",
        "print(\"y_test shape:{}\".format(y_test.shape))"
      ],
      "execution_count": 10,
      "outputs": [
        {
          "output_type": "stream",
          "text": [
            "X_train shape:(112, 4)\n",
            "y_train shape:(112,)\n",
            "X_test shape:(38, 4)\n",
            "y_test shape:(38,)\n"
          ],
          "name": "stdout"
        }
      ]
    },
    {
      "cell_type": "markdown",
      "metadata": {
        "id": "ckkt9rZ_rcpK"
      },
      "source": [
        "**K-nearest neighbor machine learning model:**"
      ]
    },
    {
      "cell_type": "code",
      "metadata": {
        "id": "KnjyttugKP98"
      },
      "source": [
        "from sklearn.neighbors import KNeighborsClassifier\r\n",
        "knn=KNeighborsClassifier(n_neighbors=1)"
      ],
      "execution_count": 13,
      "outputs": []
    },
    {
      "cell_type": "code",
      "metadata": {
        "colab": {
          "base_uri": "https://localhost:8080/"
        },
        "id": "CMAwOX-9KeV8",
        "outputId": "19cdf1c3-1057-4312-dd74-50e2336d468b"
      },
      "source": [
        "knn.fit(X_train,y_train)"
      ],
      "execution_count": 14,
      "outputs": [
        {
          "output_type": "execute_result",
          "data": {
            "text/plain": [
              "KNeighborsClassifier(algorithm='auto', leaf_size=30, metric='minkowski',\n",
              "                     metric_params=None, n_jobs=None, n_neighbors=1, p=2,\n",
              "                     weights='uniform')"
            ]
          },
          "metadata": {
            "tags": []
          },
          "execution_count": 14
        }
      ]
    },
    {
      "cell_type": "markdown",
      "metadata": {
        "id": "bJNc0orkrxa4"
      },
      "source": [
        "**Making predictions:**"
      ]
    },
    {
      "cell_type": "code",
      "metadata": {
        "colab": {
          "base_uri": "https://localhost:8080/"
        },
        "id": "S9VjMJ0OLeiK",
        "outputId": "2b6ee1d3-7ea6-4894-8dc7-b8b0ee9189d7"
      },
      "source": [
        "X_new=np.array([[5,2.9,1,0.2]])\r\n",
        "print(\"X_new.shape:{}\".format(X_new.shape))"
      ],
      "execution_count": 15,
      "outputs": [
        {
          "output_type": "stream",
          "text": [
            "X_new.shape:(1, 4)\n"
          ],
          "name": "stdout"
        }
      ]
    },
    {
      "cell_type": "code",
      "metadata": {
        "colab": {
          "base_uri": "https://localhost:8080/"
        },
        "id": "-A0vXHyTsRvd",
        "outputId": "f47d9fde-325f-4c34-bc36-182614fda9cc"
      },
      "source": [
        "prediction=knn.predict(X_new)\r\n",
        "print(\"Prediction:{}\".format(prediction))\r\n",
        "print(\"Prediced target name:{}\".format(iris_dataset['target_names'][prediction]))"
      ],
      "execution_count": 16,
      "outputs": [
        {
          "output_type": "stream",
          "text": [
            "Prediction:[0]\n",
            "Prediced target name:['setosa']\n"
          ],
          "name": "stdout"
        }
      ]
    },
    {
      "cell_type": "markdown",
      "metadata": {
        "id": "hBuREClotFND"
      },
      "source": [
        "**Evaluating the model:**"
      ]
    },
    {
      "cell_type": "code",
      "metadata": {
        "id": "qj6MF6BZNK-B",
        "colab": {
          "base_uri": "https://localhost:8080/"
        },
        "outputId": "fb14c4b3-bc38-44c8-c96f-e5738dfc6905"
      },
      "source": [
        "y_pred=knn.predict(X_test)\r\n",
        "print(\"Test set predictions:\\n {}\".format(y_pred))"
      ],
      "execution_count": 17,
      "outputs": [
        {
          "output_type": "stream",
          "text": [
            "Test set predictions:\n",
            " [2 1 0 2 0 2 0 1 1 1 2 1 1 1 1 0 1 1 0 0 2 1 0 0 2 0 0 1 1 0 2 1 0 2 2 1 0\n",
            " 2]\n"
          ],
          "name": "stdout"
        }
      ]
    },
    {
      "cell_type": "code",
      "metadata": {
        "id": "VP3aAJAJNktg",
        "colab": {
          "base_uri": "https://localhost:8080/"
        },
        "outputId": "e8b3655e-fcaf-4e3e-f4c3-9eb304c1b6e5"
      },
      "source": [
        "print(\"Test set score: {}\".format(np.mean(y_pred==y_test)))"
      ],
      "execution_count": 18,
      "outputs": [
        {
          "output_type": "stream",
          "text": [
            "Test set score: 0.9736842105263158\n"
          ],
          "name": "stdout"
        }
      ]
    }
  ]
}